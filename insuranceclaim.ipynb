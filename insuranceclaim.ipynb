{
  "nbformat": 4,
  "nbformat_minor": 0,
  "metadata": {
    "colab": {
      "name": "insuranceclaim.ipynb",
      "provenance": [],
      "collapsed_sections": [],
      "authorship_tag": "ABX9TyN33RDnfYQazDzavxg1dJXW",
      "include_colab_link": true
    },
    "kernelspec": {
      "name": "python3",
      "display_name": "Python 3"
    }
  },
  "cells": [
    {
      "cell_type": "markdown",
      "metadata": {
        "id": "view-in-github",
        "colab_type": "text"
      },
      "source": [
        "<a href=\"https://colab.research.google.com/github/TarunDeshmukhh/Insurance_claim/blob/main/insuranceclaim.ipynb\" target=\"_parent\"><img src=\"https://colab.research.google.com/assets/colab-badge.svg\" alt=\"Open In Colab\"/></a>"
      ]
    },
    {
      "cell_type": "code",
      "metadata": {
        "id": "810nb3gIILjX"
      },
      "source": [
        "#upload the file\n",
        "#from google.colab import files\n",
        "#files.upload()"
      ],
      "execution_count": null,
      "outputs": []
    },
    {
      "cell_type": "code",
      "metadata": {
        "id": "XsstVO7_I7Sl"
      },
      "source": [
        "#call libraries\n",
        "import numpy as np\n",
        "import pandas as pd\n",
        "import matplotlib.pyplot as plt\n",
        "import seaborn as sns\n",
        "import tensorflow as tf \n",
        "from sklearn.preprocessing import LabelEncoder\n",
        "from sklearn.preprocessing import StandardScaler\n",
        "from sklearn.model_selection import train_test_split\n",
        "from sklearn.metrics import classification_report"
      ],
      "execution_count": null,
      "outputs": []
    },
    {
      "cell_type": "code",
      "metadata": {
        "id": "qjD0nJI4Ipnn"
      },
      "source": [
        "#store the dataset in the variable\n",
        "df=pd.read_csv('data.csv')"
      ],
      "execution_count": null,
      "outputs": []
    },
    {
      "cell_type": "code",
      "metadata": {
        "id": "wtkZkz_sJXos",
        "colab": {
          "base_uri": "https://localhost:8080/"
        },
        "outputId": "c47b0630-5065-4ab2-a89c-13bfaf33889a"
      },
      "source": [
        "df.shape"
      ],
      "execution_count": null,
      "outputs": [
        {
          "output_type": "execute_result",
          "data": {
            "text/plain": [
              "(50553, 12)"
            ]
          },
          "metadata": {
            "tags": []
          },
          "execution_count": 4
        }
      ]
    },
    {
      "cell_type": "code",
      "metadata": {
        "id": "MW6bZQpWJZBe",
        "colab": {
          "base_uri": "https://localhost:8080/"
        },
        "outputId": "b6a57951-7038-40b1-d7a3-651c78ec5748"
      },
      "source": [
        "df.info()"
      ],
      "execution_count": null,
      "outputs": [
        {
          "output_type": "stream",
          "text": [
            "<class 'pandas.core.frame.DataFrame'>\n",
            "RangeIndex: 50553 entries, 0 to 50552\n",
            "Data columns (total 12 columns):\n",
            " #   Column                Non-Null Count  Dtype  \n",
            "---  ------                --------------  -----  \n",
            " 0   ID                    50553 non-null  int64  \n",
            " 1   Agency                50553 non-null  object \n",
            " 2   Agency Type           50553 non-null  object \n",
            " 3   Distribution Channel  50553 non-null  object \n",
            " 4   Product Name          50553 non-null  object \n",
            " 5   Claim                 50553 non-null  int64  \n",
            " 6   Duration              50553 non-null  int64  \n",
            " 7   Destination           50553 non-null  object \n",
            " 8   Net Sales             50553 non-null  float64\n",
            " 9   Commision (in value)  50553 non-null  float64\n",
            " 10  Gender                14600 non-null  object \n",
            " 11  Age                   50553 non-null  int64  \n",
            "dtypes: float64(2), int64(4), object(6)\n",
            "memory usage: 4.6+ MB\n"
          ],
          "name": "stdout"
        }
      ]
    },
    {
      "cell_type": "code",
      "metadata": {
        "id": "r5NseABIJaaA",
        "colab": {
          "base_uri": "https://localhost:8080/",
          "height": 299
        },
        "outputId": "4fe8411e-96b6-47a8-aa3e-12899a2467c6"
      },
      "source": [
        "df.head()"
      ],
      "execution_count": null,
      "outputs": [
        {
          "output_type": "execute_result",
          "data": {
            "text/html": [
              "<div>\n",
              "<style scoped>\n",
              "    .dataframe tbody tr th:only-of-type {\n",
              "        vertical-align: middle;\n",
              "    }\n",
              "\n",
              "    .dataframe tbody tr th {\n",
              "        vertical-align: top;\n",
              "    }\n",
              "\n",
              "    .dataframe thead th {\n",
              "        text-align: right;\n",
              "    }\n",
              "</style>\n",
              "<table border=\"1\" class=\"dataframe\">\n",
              "  <thead>\n",
              "    <tr style=\"text-align: right;\">\n",
              "      <th></th>\n",
              "      <th>ID</th>\n",
              "      <th>Agency</th>\n",
              "      <th>Agency Type</th>\n",
              "      <th>Distribution Channel</th>\n",
              "      <th>Product Name</th>\n",
              "      <th>Claim</th>\n",
              "      <th>Duration</th>\n",
              "      <th>Destination</th>\n",
              "      <th>Net Sales</th>\n",
              "      <th>Commision (in value)</th>\n",
              "      <th>Gender</th>\n",
              "      <th>Age</th>\n",
              "    </tr>\n",
              "  </thead>\n",
              "  <tbody>\n",
              "    <tr>\n",
              "      <th>0</th>\n",
              "      <td>3433</td>\n",
              "      <td>CWT</td>\n",
              "      <td>Travel Agency</td>\n",
              "      <td>Online</td>\n",
              "      <td>Rental Vehicle Excess Insurance</td>\n",
              "      <td>0</td>\n",
              "      <td>7</td>\n",
              "      <td>MALAYSIA</td>\n",
              "      <td>0.0</td>\n",
              "      <td>17.82</td>\n",
              "      <td>NaN</td>\n",
              "      <td>31</td>\n",
              "    </tr>\n",
              "    <tr>\n",
              "      <th>1</th>\n",
              "      <td>4339</td>\n",
              "      <td>EPX</td>\n",
              "      <td>Travel Agency</td>\n",
              "      <td>Online</td>\n",
              "      <td>Cancellation Plan</td>\n",
              "      <td>0</td>\n",
              "      <td>85</td>\n",
              "      <td>SINGAPORE</td>\n",
              "      <td>69.0</td>\n",
              "      <td>0.00</td>\n",
              "      <td>NaN</td>\n",
              "      <td>36</td>\n",
              "    </tr>\n",
              "    <tr>\n",
              "      <th>2</th>\n",
              "      <td>34590</td>\n",
              "      <td>CWT</td>\n",
              "      <td>Travel Agency</td>\n",
              "      <td>Online</td>\n",
              "      <td>Rental Vehicle Excess Insurance</td>\n",
              "      <td>0</td>\n",
              "      <td>11</td>\n",
              "      <td>MALAYSIA</td>\n",
              "      <td>19.8</td>\n",
              "      <td>11.88</td>\n",
              "      <td>NaN</td>\n",
              "      <td>75</td>\n",
              "    </tr>\n",
              "    <tr>\n",
              "      <th>3</th>\n",
              "      <td>55816</td>\n",
              "      <td>EPX</td>\n",
              "      <td>Travel Agency</td>\n",
              "      <td>Online</td>\n",
              "      <td>2 way Comprehensive Plan</td>\n",
              "      <td>0</td>\n",
              "      <td>16</td>\n",
              "      <td>INDONESIA</td>\n",
              "      <td>20.0</td>\n",
              "      <td>0.00</td>\n",
              "      <td>NaN</td>\n",
              "      <td>32</td>\n",
              "    </tr>\n",
              "    <tr>\n",
              "      <th>4</th>\n",
              "      <td>13816</td>\n",
              "      <td>EPX</td>\n",
              "      <td>Travel Agency</td>\n",
              "      <td>Online</td>\n",
              "      <td>Cancellation Plan</td>\n",
              "      <td>0</td>\n",
              "      <td>10</td>\n",
              "      <td>KOREA, REPUBLIC OF</td>\n",
              "      <td>15.0</td>\n",
              "      <td>0.00</td>\n",
              "      <td>NaN</td>\n",
              "      <td>29</td>\n",
              "    </tr>\n",
              "  </tbody>\n",
              "</table>\n",
              "</div>"
            ],
            "text/plain": [
              "      ID Agency    Agency Type  ... Commision (in value) Gender  Age\n",
              "0   3433    CWT  Travel Agency  ...                17.82    NaN   31\n",
              "1   4339    EPX  Travel Agency  ...                 0.00    NaN   36\n",
              "2  34590    CWT  Travel Agency  ...                11.88    NaN   75\n",
              "3  55816    EPX  Travel Agency  ...                 0.00    NaN   32\n",
              "4  13816    EPX  Travel Agency  ...                 0.00    NaN   29\n",
              "\n",
              "[5 rows x 12 columns]"
            ]
          },
          "metadata": {
            "tags": []
          },
          "execution_count": 6
        }
      ]
    },
    {
      "cell_type": "code",
      "metadata": {
        "id": "EYnQq242JfsZ",
        "colab": {
          "base_uri": "https://localhost:8080/"
        },
        "outputId": "daaa6221-fd8f-4e11-f13b-aee1381bfe4b"
      },
      "source": [
        "df.isnull().sum()"
      ],
      "execution_count": null,
      "outputs": [
        {
          "output_type": "execute_result",
          "data": {
            "text/plain": [
              "ID                          0\n",
              "Agency                      0\n",
              "Agency Type                 0\n",
              "Distribution Channel        0\n",
              "Product Name                0\n",
              "Claim                       0\n",
              "Duration                    0\n",
              "Destination                 0\n",
              "Net Sales                   0\n",
              "Commision (in value)        0\n",
              "Gender                  35953\n",
              "Age                         0\n",
              "dtype: int64"
            ]
          },
          "metadata": {
            "tags": []
          },
          "execution_count": 7
        }
      ]
    },
    {
      "cell_type": "code",
      "metadata": {
        "id": "mszq891AJnst",
        "colab": {
          "base_uri": "https://localhost:8080/"
        },
        "outputId": "cc555433-076e-427a-a962-4bf6488f7e60"
      },
      "source": [
        "#check null values percentage\n",
        "(df.isnull().sum()/df.shape[0])*100"
      ],
      "execution_count": null,
      "outputs": [
        {
          "output_type": "execute_result",
          "data": {
            "text/plain": [
              "ID                       0.000000\n",
              "Agency                   0.000000\n",
              "Agency Type              0.000000\n",
              "Distribution Channel     0.000000\n",
              "Product Name             0.000000\n",
              "Claim                    0.000000\n",
              "Duration                 0.000000\n",
              "Destination              0.000000\n",
              "Net Sales                0.000000\n",
              "Commision (in value)     0.000000\n",
              "Gender                  71.119419\n",
              "Age                      0.000000\n",
              "dtype: float64"
            ]
          },
          "metadata": {
            "tags": []
          },
          "execution_count": 8
        }
      ]
    },
    {
      "cell_type": "code",
      "metadata": {
        "id": "vdEXJbZoJy8A"
      },
      "source": [
        "#Null values in Gender are too much then delete this column\n",
        "df=df.drop('Gender',axis=1)"
      ],
      "execution_count": null,
      "outputs": []
    },
    {
      "cell_type": "code",
      "metadata": {
        "id": "VWbdWsh3J9Jz",
        "colab": {
          "base_uri": "https://localhost:8080/"
        },
        "outputId": "6279e1cb-a1af-4211-db71-eb24f5e942e5"
      },
      "source": [
        "df.isnull().sum()"
      ],
      "execution_count": null,
      "outputs": [
        {
          "output_type": "execute_result",
          "data": {
            "text/plain": [
              "ID                      0\n",
              "Agency                  0\n",
              "Agency Type             0\n",
              "Distribution Channel    0\n",
              "Product Name            0\n",
              "Claim                   0\n",
              "Duration                0\n",
              "Destination             0\n",
              "Net Sales               0\n",
              "Commision (in value)    0\n",
              "Age                     0\n",
              "dtype: int64"
            ]
          },
          "metadata": {
            "tags": []
          },
          "execution_count": 10
        }
      ]
    },
    {
      "cell_type": "code",
      "metadata": {
        "id": "Mbbl8Qs9J_Y3",
        "colab": {
          "base_uri": "https://localhost:8080/",
          "height": 299
        },
        "outputId": "dadb40a4-5a93-4dab-d4ce-61933db8f036"
      },
      "source": [
        "df.head()"
      ],
      "execution_count": null,
      "outputs": [
        {
          "output_type": "execute_result",
          "data": {
            "text/html": [
              "<div>\n",
              "<style scoped>\n",
              "    .dataframe tbody tr th:only-of-type {\n",
              "        vertical-align: middle;\n",
              "    }\n",
              "\n",
              "    .dataframe tbody tr th {\n",
              "        vertical-align: top;\n",
              "    }\n",
              "\n",
              "    .dataframe thead th {\n",
              "        text-align: right;\n",
              "    }\n",
              "</style>\n",
              "<table border=\"1\" class=\"dataframe\">\n",
              "  <thead>\n",
              "    <tr style=\"text-align: right;\">\n",
              "      <th></th>\n",
              "      <th>ID</th>\n",
              "      <th>Agency</th>\n",
              "      <th>Agency Type</th>\n",
              "      <th>Distribution Channel</th>\n",
              "      <th>Product Name</th>\n",
              "      <th>Claim</th>\n",
              "      <th>Duration</th>\n",
              "      <th>Destination</th>\n",
              "      <th>Net Sales</th>\n",
              "      <th>Commision (in value)</th>\n",
              "      <th>Age</th>\n",
              "    </tr>\n",
              "  </thead>\n",
              "  <tbody>\n",
              "    <tr>\n",
              "      <th>0</th>\n",
              "      <td>3433</td>\n",
              "      <td>CWT</td>\n",
              "      <td>Travel Agency</td>\n",
              "      <td>Online</td>\n",
              "      <td>Rental Vehicle Excess Insurance</td>\n",
              "      <td>0</td>\n",
              "      <td>7</td>\n",
              "      <td>MALAYSIA</td>\n",
              "      <td>0.0</td>\n",
              "      <td>17.82</td>\n",
              "      <td>31</td>\n",
              "    </tr>\n",
              "    <tr>\n",
              "      <th>1</th>\n",
              "      <td>4339</td>\n",
              "      <td>EPX</td>\n",
              "      <td>Travel Agency</td>\n",
              "      <td>Online</td>\n",
              "      <td>Cancellation Plan</td>\n",
              "      <td>0</td>\n",
              "      <td>85</td>\n",
              "      <td>SINGAPORE</td>\n",
              "      <td>69.0</td>\n",
              "      <td>0.00</td>\n",
              "      <td>36</td>\n",
              "    </tr>\n",
              "    <tr>\n",
              "      <th>2</th>\n",
              "      <td>34590</td>\n",
              "      <td>CWT</td>\n",
              "      <td>Travel Agency</td>\n",
              "      <td>Online</td>\n",
              "      <td>Rental Vehicle Excess Insurance</td>\n",
              "      <td>0</td>\n",
              "      <td>11</td>\n",
              "      <td>MALAYSIA</td>\n",
              "      <td>19.8</td>\n",
              "      <td>11.88</td>\n",
              "      <td>75</td>\n",
              "    </tr>\n",
              "    <tr>\n",
              "      <th>3</th>\n",
              "      <td>55816</td>\n",
              "      <td>EPX</td>\n",
              "      <td>Travel Agency</td>\n",
              "      <td>Online</td>\n",
              "      <td>2 way Comprehensive Plan</td>\n",
              "      <td>0</td>\n",
              "      <td>16</td>\n",
              "      <td>INDONESIA</td>\n",
              "      <td>20.0</td>\n",
              "      <td>0.00</td>\n",
              "      <td>32</td>\n",
              "    </tr>\n",
              "    <tr>\n",
              "      <th>4</th>\n",
              "      <td>13816</td>\n",
              "      <td>EPX</td>\n",
              "      <td>Travel Agency</td>\n",
              "      <td>Online</td>\n",
              "      <td>Cancellation Plan</td>\n",
              "      <td>0</td>\n",
              "      <td>10</td>\n",
              "      <td>KOREA, REPUBLIC OF</td>\n",
              "      <td>15.0</td>\n",
              "      <td>0.00</td>\n",
              "      <td>29</td>\n",
              "    </tr>\n",
              "  </tbody>\n",
              "</table>\n",
              "</div>"
            ],
            "text/plain": [
              "      ID Agency    Agency Type  ... Net Sales Commision (in value)  Age\n",
              "0   3433    CWT  Travel Agency  ...       0.0                17.82   31\n",
              "1   4339    EPX  Travel Agency  ...      69.0                 0.00   36\n",
              "2  34590    CWT  Travel Agency  ...      19.8                11.88   75\n",
              "3  55816    EPX  Travel Agency  ...      20.0                 0.00   32\n",
              "4  13816    EPX  Travel Agency  ...      15.0                 0.00   29\n",
              "\n",
              "[5 rows x 11 columns]"
            ]
          },
          "metadata": {
            "tags": []
          },
          "execution_count": 11
        }
      ]
    },
    {
      "cell_type": "code",
      "metadata": {
        "id": "-MgM3I3nKBLW",
        "colab": {
          "base_uri": "https://localhost:8080/"
        },
        "outputId": "59cf4e9b-45e6-468f-f4db-9311937747de"
      },
      "source": [
        "df.Claim.value_counts()"
      ],
      "execution_count": null,
      "outputs": [
        {
          "output_type": "execute_result",
          "data": {
            "text/plain": [
              "0    49812\n",
              "1      741\n",
              "Name: Claim, dtype: int64"
            ]
          },
          "metadata": {
            "tags": []
          },
          "execution_count": 12
        }
      ]
    },
    {
      "cell_type": "code",
      "metadata": {
        "id": "2mcTalUtKfjn"
      },
      "source": [
        "#separate categorical and numerical data\n",
        "catdf=df.select_dtypes('object')\n",
        "numdf=df.select_dtypes(['float64','int64'])"
      ],
      "execution_count": null,
      "outputs": []
    },
    {
      "cell_type": "code",
      "metadata": {
        "id": "Mh03PIkkK0v2",
        "colab": {
          "base_uri": "https://localhost:8080/"
        },
        "outputId": "20822fbf-5edc-43c0-be64-fecff78ebe14"
      },
      "source": [
        "#Do label encoding to categorical data\n",
        "for i in catdf:\n",
        "  le=LabelEncoder()\n",
        "  catdf[i]=le.fit_transform(catdf[i])"
      ],
      "execution_count": null,
      "outputs": [
        {
          "output_type": "stream",
          "text": [
            "/usr/local/lib/python3.6/dist-packages/ipykernel_launcher.py:4: SettingWithCopyWarning: \n",
            "A value is trying to be set on a copy of a slice from a DataFrame.\n",
            "Try using .loc[row_indexer,col_indexer] = value instead\n",
            "\n",
            "See the caveats in the documentation: https://pandas.pydata.org/pandas-docs/stable/user_guide/indexing.html#returning-a-view-versus-a-copy\n",
            "  after removing the cwd from sys.path.\n"
          ],
          "name": "stderr"
        }
      ]
    },
    {
      "cell_type": "code",
      "metadata": {
        "id": "Dxkq431zLQUQ"
      },
      "source": [
        "#concat the data\n",
        "newdf=pd.concat([catdf,numdf],axis=1)"
      ],
      "execution_count": null,
      "outputs": []
    },
    {
      "cell_type": "code",
      "metadata": {
        "id": "nq2j7ZLuLeD0",
        "colab": {
          "base_uri": "https://localhost:8080/"
        },
        "outputId": "32d0abd6-d481-411d-eb61-29db945ff14e"
      },
      "source": [
        "newdf.shape"
      ],
      "execution_count": null,
      "outputs": [
        {
          "output_type": "execute_result",
          "data": {
            "text/plain": [
              "(50553, 11)"
            ]
          },
          "metadata": {
            "tags": []
          },
          "execution_count": 16
        }
      ]
    },
    {
      "cell_type": "code",
      "metadata": {
        "id": "Ofepfam0Li5U",
        "colab": {
          "base_uri": "https://localhost:8080/",
          "height": 197
        },
        "outputId": "84f77eb2-51e8-4d13-901f-e796f1a0643d"
      },
      "source": [
        "newdf.head()"
      ],
      "execution_count": null,
      "outputs": [
        {
          "output_type": "execute_result",
          "data": {
            "text/html": [
              "<div>\n",
              "<style scoped>\n",
              "    .dataframe tbody tr th:only-of-type {\n",
              "        vertical-align: middle;\n",
              "    }\n",
              "\n",
              "    .dataframe tbody tr th {\n",
              "        vertical-align: top;\n",
              "    }\n",
              "\n",
              "    .dataframe thead th {\n",
              "        text-align: right;\n",
              "    }\n",
              "</style>\n",
              "<table border=\"1\" class=\"dataframe\">\n",
              "  <thead>\n",
              "    <tr style=\"text-align: right;\">\n",
              "      <th></th>\n",
              "      <th>Agency</th>\n",
              "      <th>Agency Type</th>\n",
              "      <th>Distribution Channel</th>\n",
              "      <th>Product Name</th>\n",
              "      <th>Destination</th>\n",
              "      <th>ID</th>\n",
              "      <th>Claim</th>\n",
              "      <th>Duration</th>\n",
              "      <th>Net Sales</th>\n",
              "      <th>Commision (in value)</th>\n",
              "      <th>Age</th>\n",
              "    </tr>\n",
              "  </thead>\n",
              "  <tbody>\n",
              "    <tr>\n",
              "      <th>0</th>\n",
              "      <td>6</td>\n",
              "      <td>1</td>\n",
              "      <td>1</td>\n",
              "      <td>16</td>\n",
              "      <td>56</td>\n",
              "      <td>3433</td>\n",
              "      <td>0</td>\n",
              "      <td>7</td>\n",
              "      <td>0.0</td>\n",
              "      <td>17.82</td>\n",
              "      <td>31</td>\n",
              "    </tr>\n",
              "    <tr>\n",
              "      <th>1</th>\n",
              "      <td>7</td>\n",
              "      <td>1</td>\n",
              "      <td>1</td>\n",
              "      <td>10</td>\n",
              "      <td>79</td>\n",
              "      <td>4339</td>\n",
              "      <td>0</td>\n",
              "      <td>85</td>\n",
              "      <td>69.0</td>\n",
              "      <td>0.00</td>\n",
              "      <td>36</td>\n",
              "    </tr>\n",
              "    <tr>\n",
              "      <th>2</th>\n",
              "      <td>6</td>\n",
              "      <td>1</td>\n",
              "      <td>1</td>\n",
              "      <td>16</td>\n",
              "      <td>56</td>\n",
              "      <td>34590</td>\n",
              "      <td>0</td>\n",
              "      <td>11</td>\n",
              "      <td>19.8</td>\n",
              "      <td>11.88</td>\n",
              "      <td>75</td>\n",
              "    </tr>\n",
              "    <tr>\n",
              "      <th>3</th>\n",
              "      <td>7</td>\n",
              "      <td>1</td>\n",
              "      <td>1</td>\n",
              "      <td>1</td>\n",
              "      <td>38</td>\n",
              "      <td>55816</td>\n",
              "      <td>0</td>\n",
              "      <td>16</td>\n",
              "      <td>20.0</td>\n",
              "      <td>0.00</td>\n",
              "      <td>32</td>\n",
              "    </tr>\n",
              "    <tr>\n",
              "      <th>4</th>\n",
              "      <td>7</td>\n",
              "      <td>1</td>\n",
              "      <td>1</td>\n",
              "      <td>10</td>\n",
              "      <td>47</td>\n",
              "      <td>13816</td>\n",
              "      <td>0</td>\n",
              "      <td>10</td>\n",
              "      <td>15.0</td>\n",
              "      <td>0.00</td>\n",
              "      <td>29</td>\n",
              "    </tr>\n",
              "  </tbody>\n",
              "</table>\n",
              "</div>"
            ],
            "text/plain": [
              "   Agency  Agency Type  ...  Commision (in value)  Age\n",
              "0       6            1  ...                 17.82   31\n",
              "1       7            1  ...                  0.00   36\n",
              "2       6            1  ...                 11.88   75\n",
              "3       7            1  ...                  0.00   32\n",
              "4       7            1  ...                  0.00   29\n",
              "\n",
              "[5 rows x 11 columns]"
            ]
          },
          "metadata": {
            "tags": []
          },
          "execution_count": 17
        }
      ]
    },
    {
      "cell_type": "code",
      "metadata": {
        "id": "9BVGS0UiLlMg"
      },
      "source": [
        "#separate input and ouput data\n",
        "X=newdf.drop('Claim',axis=1)\n",
        "Y=newdf['Claim']"
      ],
      "execution_count": null,
      "outputs": []
    },
    {
      "cell_type": "code",
      "metadata": {
        "id": "U_z1kztALxC2"
      },
      "source": [
        "#DO standard scaling to input data\n",
        "for i in X:\n",
        "  ss=StandardScaler()\n",
        "  X[i]=ss.fit_transform(X[[i]])"
      ],
      "execution_count": null,
      "outputs": []
    },
    {
      "cell_type": "code",
      "metadata": {
        "id": "oNLu95tbL9_B"
      },
      "source": [
        "#split the data\n",
        "X_train,X_test,Y_train,Y_test=train_test_split(X,Y,test_size=0.3,random_state=1)"
      ],
      "execution_count": null,
      "outputs": []
    },
    {
      "cell_type": "code",
      "metadata": {
        "id": "cHIo8rQkMrkV"
      },
      "source": [
        "#create neural network\n",
        "model=tf.keras.Sequential([\n",
        "                           tf.keras.layers.Dense(3, activation='relu',input_shape=(X.shape[1],)),\n",
        "                           tf.keras.layers.Dense(3, activation='relu'),\n",
        "                           tf.keras.layers.Dense(3, activation='relu'),\n",
        "                           tf.keras.layers.Dense(1, activation='sigmoid')\n",
        "])"
      ],
      "execution_count": null,
      "outputs": []
    },
    {
      "cell_type": "code",
      "metadata": {
        "id": "AeoiYx5ANnC2",
        "colab": {
          "base_uri": "https://localhost:8080/"
        },
        "outputId": "d34a5bf2-7755-49fb-db2b-99a817c1fc2e"
      },
      "source": [
        "model.summary()"
      ],
      "execution_count": null,
      "outputs": [
        {
          "output_type": "stream",
          "text": [
            "Model: \"sequential\"\n",
            "_________________________________________________________________\n",
            "Layer (type)                 Output Shape              Param #   \n",
            "=================================================================\n",
            "dense (Dense)                (None, 3)                 33        \n",
            "_________________________________________________________________\n",
            "dense_1 (Dense)              (None, 3)                 12        \n",
            "_________________________________________________________________\n",
            "dense_2 (Dense)              (None, 3)                 12        \n",
            "_________________________________________________________________\n",
            "dense_3 (Dense)              (None, 1)                 4         \n",
            "=================================================================\n",
            "Total params: 61\n",
            "Trainable params: 61\n",
            "Non-trainable params: 0\n",
            "_________________________________________________________________\n"
          ],
          "name": "stdout"
        }
      ]
    },
    {
      "cell_type": "code",
      "metadata": {
        "id": "Rxm2u67DNrC2"
      },
      "source": [
        "model.compile(optimizer='sgd',loss='binary_crossentropy')"
      ],
      "execution_count": null,
      "outputs": []
    },
    {
      "cell_type": "code",
      "metadata": {
        "id": "fP9jDA50N7ag",
        "colab": {
          "base_uri": "https://localhost:8080/"
        },
        "outputId": "5964a622-62a1-49ab-be3c-b952a2fd6c16"
      },
      "source": [
        "trainedmodel=model.fit(X_train,Y_train,epochs=50)"
      ],
      "execution_count": null,
      "outputs": [
        {
          "output_type": "stream",
          "text": [
            "Epoch 1/50\n",
            "1106/1106 [==============================] - 1s 955us/step - loss: 0.1344\n",
            "Epoch 2/50\n",
            "1106/1106 [==============================] - 1s 989us/step - loss: 0.0790\n",
            "Epoch 3/50\n",
            "1106/1106 [==============================] - 1s 957us/step - loss: 0.0757\n",
            "Epoch 4/50\n",
            "1106/1106 [==============================] - 1s 911us/step - loss: 0.0742\n",
            "Epoch 5/50\n",
            "1106/1106 [==============================] - 1s 863us/step - loss: 0.0732\n",
            "Epoch 6/50\n",
            "1106/1106 [==============================] - 1s 901us/step - loss: 0.0724\n",
            "Epoch 7/50\n",
            "1106/1106 [==============================] - 1s 890us/step - loss: 0.0718\n",
            "Epoch 8/50\n",
            "1106/1106 [==============================] - 1s 911us/step - loss: 0.0714\n",
            "Epoch 9/50\n",
            "1106/1106 [==============================] - 1s 890us/step - loss: 0.0710\n",
            "Epoch 10/50\n",
            "1106/1106 [==============================] - 1s 911us/step - loss: 0.0708\n",
            "Epoch 11/50\n",
            "1106/1106 [==============================] - 1s 948us/step - loss: 0.0705\n",
            "Epoch 12/50\n",
            "1106/1106 [==============================] - 1s 900us/step - loss: 0.0704\n",
            "Epoch 13/50\n",
            "1106/1106 [==============================] - 1s 912us/step - loss: 0.0702\n",
            "Epoch 14/50\n",
            "1106/1106 [==============================] - 1s 929us/step - loss: 0.0701\n",
            "Epoch 15/50\n",
            "1106/1106 [==============================] - 1s 1ms/step - loss: 0.0699\n",
            "Epoch 16/50\n",
            "1106/1106 [==============================] - 1s 897us/step - loss: 0.0698\n",
            "Epoch 17/50\n",
            "1106/1106 [==============================] - 1s 907us/step - loss: 0.0697\n",
            "Epoch 18/50\n",
            "1106/1106 [==============================] - 1s 943us/step - loss: 0.0696\n",
            "Epoch 19/50\n",
            "1106/1106 [==============================] - 1s 950us/step - loss: 0.0695\n",
            "Epoch 20/50\n",
            "1106/1106 [==============================] - 1s 931us/step - loss: 0.0694\n",
            "Epoch 21/50\n",
            "1106/1106 [==============================] - 1s 946us/step - loss: 0.0693\n",
            "Epoch 22/50\n",
            "1106/1106 [==============================] - 1s 982us/step - loss: 0.0692\n",
            "Epoch 23/50\n",
            "1106/1106 [==============================] - 1s 886us/step - loss: 0.0691\n",
            "Epoch 24/50\n",
            "1106/1106 [==============================] - 1s 933us/step - loss: 0.0690\n",
            "Epoch 25/50\n",
            "1106/1106 [==============================] - 1s 892us/step - loss: 0.0689\n",
            "Epoch 26/50\n",
            "1106/1106 [==============================] - 1s 938us/step - loss: 0.0688\n",
            "Epoch 27/50\n",
            "1106/1106 [==============================] - 1s 988us/step - loss: 0.0687\n",
            "Epoch 28/50\n",
            "1106/1106 [==============================] - 1s 995us/step - loss: 0.0687\n",
            "Epoch 29/50\n",
            "1106/1106 [==============================] - 1s 927us/step - loss: 0.0686\n",
            "Epoch 30/50\n",
            "1106/1106 [==============================] - 1s 924us/step - loss: 0.0685\n",
            "Epoch 31/50\n",
            "1106/1106 [==============================] - 1s 938us/step - loss: 0.0685\n",
            "Epoch 32/50\n",
            "1106/1106 [==============================] - 1s 923us/step - loss: 0.0684\n",
            "Epoch 33/50\n",
            "1106/1106 [==============================] - 1s 945us/step - loss: 0.0683\n",
            "Epoch 34/50\n",
            "1106/1106 [==============================] - 1s 898us/step - loss: 0.0682\n",
            "Epoch 35/50\n",
            "1106/1106 [==============================] - 1s 934us/step - loss: 0.0681\n",
            "Epoch 36/50\n",
            "1106/1106 [==============================] - 1s 946us/step - loss: 0.0681\n",
            "Epoch 37/50\n",
            "1106/1106 [==============================] - 1s 956us/step - loss: 0.0680\n",
            "Epoch 38/50\n",
            "1106/1106 [==============================] - 1s 907us/step - loss: 0.0679\n",
            "Epoch 39/50\n",
            "1106/1106 [==============================] - 1s 901us/step - loss: 0.0678\n",
            "Epoch 40/50\n",
            "1106/1106 [==============================] - 1s 948us/step - loss: 0.0677\n",
            "Epoch 41/50\n",
            "1106/1106 [==============================] - 1s 934us/step - loss: 0.0677\n",
            "Epoch 42/50\n",
            "1106/1106 [==============================] - 1s 943us/step - loss: 0.0676\n",
            "Epoch 43/50\n",
            "1106/1106 [==============================] - 1s 932us/step - loss: 0.0676\n",
            "Epoch 44/50\n",
            "1106/1106 [==============================] - 1s 930us/step - loss: 0.0675\n",
            "Epoch 45/50\n",
            "1106/1106 [==============================] - 1s 971us/step - loss: 0.0674\n",
            "Epoch 46/50\n",
            "1106/1106 [==============================] - 1s 931us/step - loss: 0.0674\n",
            "Epoch 47/50\n",
            "1106/1106 [==============================] - 1s 924us/step - loss: 0.0673\n",
            "Epoch 48/50\n",
            "1106/1106 [==============================] - 1s 903us/step - loss: 0.0673\n",
            "Epoch 49/50\n",
            "1106/1106 [==============================] - 1s 946us/step - loss: 0.0672\n",
            "Epoch 50/50\n",
            "1106/1106 [==============================] - 1s 909us/step - loss: 0.0672\n"
          ],
          "name": "stdout"
        }
      ]
    },
    {
      "cell_type": "code",
      "metadata": {
        "id": "aXZXyjI3OPU1",
        "colab": {
          "base_uri": "https://localhost:8080/",
          "height": 281
        },
        "outputId": "daba8a63-b493-4637-e3d9-e451e4f920ae"
      },
      "source": [
        "plt.plot(trainedmodel.history['loss'])"
      ],
      "execution_count": null,
      "outputs": [
        {
          "output_type": "execute_result",
          "data": {
            "text/plain": [
              "[<matplotlib.lines.Line2D at 0x7fb6878029b0>]"
            ]
          },
          "metadata": {
            "tags": []
          },
          "execution_count": 25
        },
        {
          "output_type": "display_data",
          "data": {
            "image/png": "[encoded data removed]",
            "text/plain": [
              "<Figure size 432x288 with 1 Axes>"
            ]
          },
          "metadata": {
            "tags": [],
            "needs_background": "light"
          }
        }
      ]
    },
    {
      "cell_type": "code",
      "metadata": {
        "id": "3am8gqt1OJG4"
      },
      "source": [
        "Y_predict=model.predict(X_test)"
      ],
      "execution_count": null,
      "outputs": []
    },
    {
      "cell_type": "code",
      "metadata": {
        "id": "oKSwDO7uOW4E"
      },
      "source": [
        "Y_predict=np.where(Y_predict>=0.5,1,0)"
      ],
      "execution_count": null,
      "outputs": []
    },
    {
      "cell_type": "code",
      "metadata": {
        "id": "8w6H_SRfObfr",
        "colab": {
          "base_uri": "https://localhost:8080/"
        },
        "outputId": "531d0ea2-face-4eb0-9a4d-b1d9fa3081ad"
      },
      "source": [
        "print(classification_report(Y_test,Y_predict))"
      ],
      "execution_count": null,
      "outputs": [
        {
          "output_type": "stream",
          "text": [
            "              precision    recall  f1-score   support\n",
            "\n",
            "           0       0.99      1.00      0.99     14961\n",
            "           1       0.00      0.00      0.00       205\n",
            "\n",
            "    accuracy                           0.99     15166\n",
            "   macro avg       0.49      0.50      0.50     15166\n",
            "weighted avg       0.97      0.99      0.98     15166\n",
            "\n"
          ],
          "name": "stdout"
        },
        {
          "output_type": "stream",
          "text": [
            "/usr/local/lib/python3.6/dist-packages/sklearn/metrics/_classification.py:1272: UndefinedMetricWarning: Precision and F-score are ill-defined and being set to 0.0 in labels with no predicted samples. Use `zero_division` parameter to control this behavior.\n",
            "  _warn_prf(average, modifier, msg_start, len(result))\n"
          ],
          "name": "stderr"
        }
      ]
    },
    {
      "cell_type": "code",
      "metadata": {
        "id": "FghhYTCNOm0x",
        "colab": {
          "base_uri": "https://localhost:8080/"
        },
        "outputId": "cefab9bf-d019-4e9c-af80-eea89d9f2700"
      },
      "source": [
        "# Data is imbalance \n",
        "Y.value_counts()"
      ],
      "execution_count": null,
      "outputs": [
        {
          "output_type": "execute_result",
          "data": {
            "text/plain": [
              "0    49812\n",
              "1      741\n",
              "Name: Claim, dtype: int64"
            ]
          },
          "metadata": {
            "tags": []
          },
          "execution_count": 29
        }
      ]
    },
    {
      "cell_type": "code",
      "metadata": {
        "id": "txKmFUORQj9x",
        "colab": {
          "base_uri": "https://localhost:8080/"
        },
        "outputId": "e0d436e2-8918-4614-92e6-6a5220df166c"
      },
      "source": [
        "from imblearn.under_sampling import RandomUnderSampler"
      ],
      "execution_count": null,
      "outputs": [
        {
          "output_type": "stream",
          "text": [
            "/usr/local/lib/python3.6/dist-packages/sklearn/externals/six.py:31: FutureWarning: The module is deprecated in version 0.21 and will be removed in version 0.23 since we've dropped support for Python 2.7. Please rely on the official version of six (https://pypi.org/project/six/).\n",
            "  \"(https://pypi.org/project/six/).\", FutureWarning)\n",
            "/usr/local/lib/python3.6/dist-packages/sklearn/utils/deprecation.py:144: FutureWarning: The sklearn.neighbors.base module is  deprecated in version 0.22 and will be removed in version 0.24. The corresponding classes / functions should instead be imported from sklearn.neighbors. Anything that cannot be imported from sklearn.neighbors is now part of the private API.\n",
            "  warnings.warn(message, FutureWarning)\n"
          ],
          "name": "stderr"
        }
      ]
    },
    {
      "cell_type": "code",
      "metadata": {
        "id": "eHbaUTrAQ0jz",
        "colab": {
          "base_uri": "https://localhost:8080/"
        },
        "outputId": "aee75108-f3bb-46bb-e264-15e3a1d40761"
      },
      "source": [
        "rus=RandomUnderSampler()\n",
        "Xtrainss,Ytrainss=rus.fit_sample(X_train,Y_train)\n",
        "Xtestss,Ytestss=rus.fit_sample(X_test,Y_test)\n",
        "X_trainnew,Y_trainnew,X_testnew,Y_testnew=Xtrainss,Ytrainss,Xtestss,Ytestss"
      ],
      "execution_count": null,
      "outputs": [
        {
          "output_type": "stream",
          "text": [
            "/usr/local/lib/python3.6/dist-packages/sklearn/utils/deprecation.py:87: FutureWarning: Function safe_indexing is deprecated; safe_indexing is deprecated in version 0.22 and will be removed in version 0.24.\n",
            "  warnings.warn(msg, category=FutureWarning)\n",
            "/usr/local/lib/python3.6/dist-packages/sklearn/utils/deprecation.py:87: FutureWarning: Function safe_indexing is deprecated; safe_indexing is deprecated in version 0.22 and will be removed in version 0.24.\n",
            "  warnings.warn(msg, category=FutureWarning)\n"
          ],
          "name": "stderr"
        }
      ]
    },
    {
      "cell_type": "code",
      "metadata": {
        "id": "ooeVu8-tRD2g",
        "colab": {
          "base_uri": "https://localhost:8080/"
        },
        "outputId": "6074b6f8-393e-45da-fb06-ef5919863708"
      },
      "source": [
        "pd.Series(Y_trainnew).value_counts()"
      ],
      "execution_count": null,
      "outputs": [
        {
          "output_type": "execute_result",
          "data": {
            "text/plain": [
              "1    536\n",
              "0    536\n",
              "dtype: int64"
            ]
          },
          "metadata": {
            "tags": []
          },
          "execution_count": 32
        }
      ]
    },
    {
      "cell_type": "code",
      "metadata": {
        "id": "-Eq7_k6pShJI"
      },
      "source": [
        "#create neural network\n",
        "model=tf.keras.Sequential([\n",
        "                           tf.keras.layers.Dense(3, activation='relu',input_shape=(X.shape[1],)),\n",
        "                           tf.keras.layers.Dense(3, activation='relu'),\n",
        "                           tf.keras.layers.Dense(3, activation='relu'),\n",
        "                           tf.keras.layers.Dense(1, activation='sigmoid')\n",
        "])"
      ],
      "execution_count": null,
      "outputs": []
    },
    {
      "cell_type": "code",
      "metadata": {
        "id": "gggQtVH2TLmW",
        "colab": {
          "base_uri": "https://localhost:8080/"
        },
        "outputId": "e5e811d9-2221-4801-c148-20a0b12f528e"
      },
      "source": [
        "model.summary()"
      ],
      "execution_count": null,
      "outputs": [
        {
          "output_type": "stream",
          "text": [
            "Model: \"sequential_1\"\n",
            "_________________________________________________________________\n",
            "Layer (type)                 Output Shape              Param #   \n",
            "=================================================================\n",
            "dense_4 (Dense)              (None, 3)                 33        \n",
            "_________________________________________________________________\n",
            "dense_5 (Dense)              (None, 3)                 12        \n",
            "_________________________________________________________________\n",
            "dense_6 (Dense)              (None, 3)                 12        \n",
            "_________________________________________________________________\n",
            "dense_7 (Dense)              (None, 1)                 4         \n",
            "=================================================================\n",
            "Total params: 61\n",
            "Trainable params: 61\n",
            "Non-trainable params: 0\n",
            "_________________________________________________________________\n"
          ],
          "name": "stdout"
        }
      ]
    },
    {
      "cell_type": "code",
      "metadata": {
        "id": "ivwZSONQTQOO"
      },
      "source": [
        "model.compile(optimizer='sgd',loss='binary_crossentropy')"
      ],
      "execution_count": null,
      "outputs": []
    },
    {
      "cell_type": "code",
      "metadata": {
        "id": "LGTtuhQwTTr5",
        "colab": {
          "base_uri": "https://localhost:8080/"
        },
        "outputId": "70a233cf-f47a-4ad3-ae81-f4523b59aaf4"
      },
      "source": [
        "trainedmodel=model.fit(X_trainnew,Y_trainnew,epochs=100)"
      ],
      "execution_count": null,
      "outputs": [
        {
          "output_type": "stream",
          "text": [
            "Epoch 1/100\n",
            "34/34 [==============================] - 0s 910us/step - loss: 0.7087\n",
            "Epoch 2/100\n",
            "34/34 [==============================] - 0s 947us/step - loss: 0.6904\n",
            "Epoch 3/100\n",
            "34/34 [==============================] - 0s 1ms/step - loss: 0.6860\n",
            "Epoch 4/100\n",
            "34/34 [==============================] - 0s 1ms/step - loss: 0.6845\n",
            "Epoch 5/100\n",
            "34/34 [==============================] - 0s 1ms/step - loss: 0.6830\n",
            "Epoch 6/100\n",
            "34/34 [==============================] - 0s 932us/step - loss: 0.6816\n",
            "Epoch 7/100\n",
            "34/34 [==============================] - 0s 986us/step - loss: 0.6802\n",
            "Epoch 8/100\n",
            "34/34 [==============================] - 0s 1ms/step - loss: 0.6788\n",
            "Epoch 9/100\n",
            "34/34 [==============================] - 0s 969us/step - loss: 0.6773\n",
            "Epoch 10/100\n",
            "34/34 [==============================] - 0s 933us/step - loss: 0.6757\n",
            "Epoch 11/100\n",
            "34/34 [==============================] - 0s 1ms/step - loss: 0.6740\n",
            "Epoch 12/100\n",
            "34/34 [==============================] - 0s 907us/step - loss: 0.6725\n",
            "Epoch 13/100\n",
            "34/34 [==============================] - 0s 958us/step - loss: 0.6707\n",
            "Epoch 14/100\n",
            "34/34 [==============================] - 0s 907us/step - loss: 0.6690\n",
            "Epoch 15/100\n",
            "34/34 [==============================] - 0s 941us/step - loss: 0.6671\n",
            "Epoch 16/100\n",
            "34/34 [==============================] - 0s 999us/step - loss: 0.6652\n",
            "Epoch 17/100\n",
            "34/34 [==============================] - 0s 1ms/step - loss: 0.6632\n",
            "Epoch 18/100\n",
            "34/34 [==============================] - 0s 1ms/step - loss: 0.6611\n",
            "Epoch 19/100\n",
            "34/34 [==============================] - 0s 960us/step - loss: 0.6590\n",
            "Epoch 20/100\n",
            "34/34 [==============================] - 0s 919us/step - loss: 0.6569\n",
            "Epoch 21/100\n",
            "34/34 [==============================] - 0s 943us/step - loss: 0.6548\n",
            "Epoch 22/100\n",
            "34/34 [==============================] - 0s 952us/step - loss: 0.6525\n",
            "Epoch 23/100\n",
            "34/34 [==============================] - 0s 959us/step - loss: 0.6502\n",
            "Epoch 24/100\n",
            "34/34 [==============================] - 0s 920us/step - loss: 0.6479\n",
            "Epoch 25/100\n",
            "34/34 [==============================] - 0s 997us/step - loss: 0.6454\n",
            "Epoch 26/100\n",
            "34/34 [==============================] - 0s 922us/step - loss: 0.6431\n",
            "Epoch 27/100\n",
            "34/34 [==============================] - 0s 929us/step - loss: 0.6408\n",
            "Epoch 28/100\n",
            "34/34 [==============================] - 0s 935us/step - loss: 0.6384\n",
            "Epoch 29/100\n",
            "34/34 [==============================] - 0s 1ms/step - loss: 0.6362\n",
            "Epoch 30/100\n",
            "34/34 [==============================] - 0s 935us/step - loss: 0.6339\n",
            "Epoch 31/100\n",
            "34/34 [==============================] - 0s 946us/step - loss: 0.6316\n",
            "Epoch 32/100\n",
            "34/34 [==============================] - 0s 911us/step - loss: 0.6293\n",
            "Epoch 33/100\n",
            "34/34 [==============================] - 0s 1ms/step - loss: 0.6272\n",
            "Epoch 34/100\n",
            "34/34 [==============================] - 0s 952us/step - loss: 0.6250\n",
            "Epoch 35/100\n",
            "34/34 [==============================] - 0s 1ms/step - loss: 0.6229\n",
            "Epoch 36/100\n",
            "34/34 [==============================] - 0s 1ms/step - loss: 0.6209\n",
            "Epoch 37/100\n",
            "34/34 [==============================] - 0s 947us/step - loss: 0.6189\n",
            "Epoch 38/100\n",
            "34/34 [==============================] - 0s 995us/step - loss: 0.6167\n",
            "Epoch 39/100\n",
            "34/34 [==============================] - 0s 1ms/step - loss: 0.6147\n",
            "Epoch 40/100\n",
            "34/34 [==============================] - 0s 1ms/step - loss: 0.6126\n",
            "Epoch 41/100\n",
            "34/34 [==============================] - 0s 912us/step - loss: 0.6107\n",
            "Epoch 42/100\n",
            "34/34 [==============================] - 0s 1ms/step - loss: 0.6088\n",
            "Epoch 43/100\n",
            "34/34 [==============================] - 0s 1ms/step - loss: 0.6069\n",
            "Epoch 44/100\n",
            "34/34 [==============================] - 0s 1ms/step - loss: 0.6050\n",
            "Epoch 45/100\n",
            "34/34 [==============================] - 0s 1ms/step - loss: 0.6032\n",
            "Epoch 46/100\n",
            "34/34 [==============================] - 0s 911us/step - loss: 0.6015\n",
            "Epoch 47/100\n",
            "34/34 [==============================] - 0s 907us/step - loss: 0.5999\n",
            "Epoch 48/100\n",
            "34/34 [==============================] - 0s 932us/step - loss: 0.5983\n",
            "Epoch 49/100\n",
            "34/34 [==============================] - 0s 934us/step - loss: 0.5968\n",
            "Epoch 50/100\n",
            "34/34 [==============================] - 0s 1ms/step - loss: 0.5952\n",
            "Epoch 51/100\n",
            "34/34 [==============================] - 0s 1ms/step - loss: 0.5937\n",
            "Epoch 52/100\n",
            "34/34 [==============================] - 0s 1ms/step - loss: 0.5922\n",
            "Epoch 53/100\n",
            "34/34 [==============================] - 0s 1ms/step - loss: 0.5908\n",
            "Epoch 54/100\n",
            "34/34 [==============================] - 0s 964us/step - loss: 0.5894\n",
            "Epoch 55/100\n",
            "34/34 [==============================] - 0s 949us/step - loss: 0.5880\n",
            "Epoch 56/100\n",
            "34/34 [==============================] - 0s 921us/step - loss: 0.5866\n",
            "Epoch 57/100\n",
            "34/34 [==============================] - 0s 887us/step - loss: 0.5853\n",
            "Epoch 58/100\n",
            "34/34 [==============================] - 0s 978us/step - loss: 0.5841\n",
            "Epoch 59/100\n",
            "34/34 [==============================] - 0s 953us/step - loss: 0.5828\n",
            "Epoch 60/100\n",
            "34/34 [==============================] - 0s 1ms/step - loss: 0.5816\n",
            "Epoch 61/100\n",
            "34/34 [==============================] - 0s 1ms/step - loss: 0.5805\n",
            "Epoch 62/100\n",
            "34/34 [==============================] - 0s 1ms/step - loss: 0.5794\n",
            "Epoch 63/100\n",
            "34/34 [==============================] - 0s 982us/step - loss: 0.5783\n",
            "Epoch 64/100\n",
            "34/34 [==============================] - 0s 984us/step - loss: 0.5774\n",
            "Epoch 65/100\n",
            "34/34 [==============================] - 0s 982us/step - loss: 0.5763\n",
            "Epoch 66/100\n",
            "34/34 [==============================] - 0s 978us/step - loss: 0.5753\n",
            "Epoch 67/100\n",
            "34/34 [==============================] - 0s 961us/step - loss: 0.5743\n",
            "Epoch 68/100\n",
            "34/34 [==============================] - 0s 1ms/step - loss: 0.5733\n",
            "Epoch 69/100\n",
            "34/34 [==============================] - 0s 1ms/step - loss: 0.5723\n",
            "Epoch 70/100\n",
            "34/34 [==============================] - 0s 1ms/step - loss: 0.5713\n",
            "Epoch 71/100\n",
            "34/34 [==============================] - 0s 1ms/step - loss: 0.5703\n",
            "Epoch 72/100\n",
            "34/34 [==============================] - 0s 921us/step - loss: 0.5694\n",
            "Epoch 73/100\n",
            "34/34 [==============================] - 0s 915us/step - loss: 0.5685\n",
            "Epoch 74/100\n",
            "34/34 [==============================] - 0s 979us/step - loss: 0.5675\n",
            "Epoch 75/100\n",
            "34/34 [==============================] - 0s 968us/step - loss: 0.5666\n",
            "Epoch 76/100\n",
            "34/34 [==============================] - 0s 993us/step - loss: 0.5657\n",
            "Epoch 77/100\n",
            "34/34 [==============================] - 0s 963us/step - loss: 0.5647\n",
            "Epoch 78/100\n",
            "34/34 [==============================] - 0s 996us/step - loss: 0.5639\n",
            "Epoch 79/100\n",
            "34/34 [==============================] - 0s 1ms/step - loss: 0.5631\n",
            "Epoch 80/100\n",
            "34/34 [==============================] - 0s 1ms/step - loss: 0.5624\n",
            "Epoch 81/100\n",
            "34/34 [==============================] - 0s 1ms/step - loss: 0.5617\n",
            "Epoch 82/100\n",
            "34/34 [==============================] - 0s 1ms/step - loss: 0.5610\n",
            "Epoch 83/100\n",
            "34/34 [==============================] - 0s 951us/step - loss: 0.5604\n",
            "Epoch 84/100\n",
            "34/34 [==============================] - 0s 987us/step - loss: 0.5597\n",
            "Epoch 85/100\n",
            "34/34 [==============================] - 0s 1ms/step - loss: 0.5592\n",
            "Epoch 86/100\n",
            "34/34 [==============================] - 0s 1ms/step - loss: 0.5586\n",
            "Epoch 87/100\n",
            "34/34 [==============================] - 0s 1ms/step - loss: 0.5581\n",
            "Epoch 88/100\n",
            "34/34 [==============================] - 0s 1ms/step - loss: 0.5575\n",
            "Epoch 89/100\n",
            "34/34 [==============================] - 0s 1ms/step - loss: 0.5570\n",
            "Epoch 90/100\n",
            "34/34 [==============================] - 0s 1000us/step - loss: 0.5564\n",
            "Epoch 91/100\n",
            "34/34 [==============================] - 0s 1ms/step - loss: 0.5558\n",
            "Epoch 92/100\n",
            "34/34 [==============================] - 0s 985us/step - loss: 0.5554\n",
            "Epoch 93/100\n",
            "34/34 [==============================] - 0s 1ms/step - loss: 0.5549\n",
            "Epoch 94/100\n",
            "34/34 [==============================] - 0s 1ms/step - loss: 0.5544\n",
            "Epoch 95/100\n",
            "34/34 [==============================] - 0s 1ms/step - loss: 0.5539\n",
            "Epoch 96/100\n",
            "34/34 [==============================] - 0s 972us/step - loss: 0.5534\n",
            "Epoch 97/100\n",
            "34/34 [==============================] - 0s 991us/step - loss: 0.5530\n",
            "Epoch 98/100\n",
            "34/34 [==============================] - 0s 962us/step - loss: 0.5525\n",
            "Epoch 99/100\n",
            "34/34 [==============================] - 0s 1ms/step - loss: 0.5521\n",
            "Epoch 100/100\n",
            "34/34 [==============================] - 0s 990us/step - loss: 0.5515\n"
          ],
          "name": "stdout"
        }
      ]
    },
    {
      "cell_type": "code",
      "metadata": {
        "id": "QGYNoWgUTa4N",
        "colab": {
          "base_uri": "https://localhost:8080/",
          "height": 281
        },
        "outputId": "12227218-6b62-40ad-a7a5-c50894ffe1f3"
      },
      "source": [
        "plt.plot(trainedmodel.history['loss'])"
      ],
      "execution_count": null,
      "outputs": [
        {
          "output_type": "execute_result",
          "data": {
            "text/plain": [
              "[<matplotlib.lines.Line2D at 0x7fb67fadce48>]"
            ]
          },
          "metadata": {
            "tags": []
          },
          "execution_count": 37
        },
        {
          "output_type": "display_data",
          "data": {
            "image/png": "[encoded data removed]",
            "text/plain": [
              "<Figure size 432x288 with 1 Axes>"
            ]
          },
          "metadata": {
            "tags": [],
            "needs_background": "light"
          }
        }
      ]
    },
    {
      "cell_type": "code",
      "metadata": {
        "id": "RZMzq7LQTgfQ"
      },
      "source": [
        "Y_predict=model.predict(X_test)\n",
        "Y_predict=np.where(Y_predict>=0.5,1,0)"
      ],
      "execution_count": null,
      "outputs": []
    },
    {
      "cell_type": "code",
      "metadata": {
        "id": "TroKY8IyTtjD",
        "colab": {
          "base_uri": "https://localhost:8080/"
        },
        "outputId": "07a6607e-6287-4f5e-e905-b90478b296e5"
      },
      "source": [
        "print(classification_report(Y_test,Y_predict))"
      ],
      "execution_count": null,
      "outputs": [
        {
          "output_type": "stream",
          "text": [
            "              precision    recall  f1-score   support\n",
            "\n",
            "           0       0.99      0.84      0.91     14961\n",
            "           1       0.05      0.62      0.09       205\n",
            "\n",
            "    accuracy                           0.84     15166\n",
            "   macro avg       0.52      0.73      0.50     15166\n",
            "weighted avg       0.98      0.84      0.90     15166\n",
            "\n"
          ],
          "name": "stdout"
        }
      ]
    },
    {
      "cell_type": "code",
      "metadata": {
        "id": "drr5FQEtTyqN"
      },
      "source": [
        ""
      ],
      "execution_count": null,
      "outputs": []
    }
  ]
}